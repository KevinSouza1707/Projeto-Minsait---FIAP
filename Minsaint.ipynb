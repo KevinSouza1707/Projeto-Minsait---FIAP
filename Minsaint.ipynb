{
  "nbformat": 4,
  "nbformat_minor": 0,
  "metadata": {
    "colab": {
      "provenance": [],
      "include_colab_link": true
    },
    "kernelspec": {
      "name": "python3",
      "display_name": "Python 3"
    },
    "language_info": {
      "name": "python"
    }
  },
  "cells": [
    {
      "cell_type": "markdown",
      "metadata": {
        "id": "view-in-github",
        "colab_type": "text"
      },
      "source": [
        "<a href=\"https://colab.research.google.com/github/KevinSouza1707/Projeto-Minsait-FIAP/blob/main/Minsaint.ipynb\" target=\"_parent\"><img src=\"https://colab.research.google.com/assets/colab-badge.svg\" alt=\"Open In Colab\"/></a>"
      ]
    },
    {
      "cell_type": "markdown",
      "source": [
        "#Análise de custo e venda de produtos"
      ],
      "metadata": {
        "id": "490opF7WKPHr"
      }
    },
    {
      "cell_type": "markdown",
      "source": [
        "## Módulos"
      ],
      "metadata": {
        "id": "rBbFIBr7Irv_"
      }
    },
    {
      "cell_type": "code",
      "source": [
        "import pandas as pd       # análise de dados\n",
        "import numpy as np        # operações matemáticas\n",
        "import scipy as sp        # operações matemáticas\n",
        "import sympy as smp       # cálculos computacionais\n",
        "import csv"
      ],
      "metadata": {
        "id": "o8BgFLF2Isyz"
      },
      "execution_count": null,
      "outputs": []
    },
    {
      "cell_type": "markdown",
      "source": [
        "## Carregamento dos dados"
      ],
      "metadata": {
        "id": "fO7Tf3IMJG7y"
      }
    },
    {
      "cell_type": "code",
      "source": [
        "# transformando os arquivos txt para csv e carregando-os em DataFrames\n",
        "arquivo_txt = '/content/CustoProducao.txt'\n",
        "arquivo_csv = 'CustoProducao.csv'\n",
        "\n",
        "with open(arquivo_txt, 'r', encoding='latin1') as txt_file:\n",
        "    colunas = txt_file.readline().strip().split(';')\n",
        "\n",
        "    with open(arquivo_csv, 'w', newline='', encoding='latin1') as csv_file:\n",
        "        csv_writer = csv.DictWriter(csv_file, fieldnames=colunas, delimiter=';')\n",
        "        csv_writer.writeheader()\n",
        "\n",
        "        for linha in txt_file:\n",
        "            valores = linha.strip().split(';')\n",
        "            linha_dict = {coluna: valor for coluna, valor in zip(colunas, valores)}\n",
        "            csv_writer.writerow(linha_dict)\n",
        "\n",
        "arquivo1_txt = '/content/PrecosMensalUF.txt'\n",
        "arquivo1_csv = 'PrecosMensal.csv'\n",
        "\n",
        "with open(arquivo1_txt, 'r', encoding='latin1') as txt_file:\n",
        "    colunas = txt_file.readline().strip().split(';')\n",
        "\n",
        "    with open(arquivo1_csv, 'w', newline='', encoding='latin1') as csv_file:\n",
        "        csv_writer = csv.DictWriter(csv_file, fieldnames=colunas, delimiter=';')\n",
        "        csv_writer.writeheader()\n",
        "\n",
        "        for linha in txt_file:\n",
        "            valores = linha.strip().split(';')\n",
        "            linha_dict = {coluna: valor for coluna, valor in zip(colunas, valores)}\n",
        "            csv_writer.writerow(linha_dict)"
      ],
      "metadata": {
        "id": "FBnwHSWDJHoC"
      },
      "execution_count": null,
      "outputs": []
    },
    {
      "cell_type": "code",
      "source": [
        "#lendo e carregando o arquivos para variáveis\n",
        "custo_producao = pd.read_csv ('/content/CustoProducao.csv',encoding='latin1', sep = ';', decimal= ',')\n",
        "venda_producao = pd.read_csv ('/content/PrecosMensal.csv',encoding='latin1', sep = ';', decimal= ',')"
      ],
      "metadata": {
        "id": "_ogBMjihJQl1"
      },
      "execution_count": null,
      "outputs": []
    },
    {
      "cell_type": "markdown",
      "source": [
        "## Estabilidade de custo de produção por produto"
      ],
      "metadata": {
        "id": "3TwvDSqNJbP_"
      }
    },
    {
      "cell_type": "code",
      "source": [
        "# convertendo para numérico\n",
        "custo_producao['vlr_renda_fator_unidade'] = pd.to_numeric(custo_producao['vlr_renda_fator_unidade'])\n",
        "custo_producao['vlr_custo_fixo_unidade'] = pd.to_numeric(custo_producao['vlr_custo_fixo_unidade'])\n",
        "custo_producao['vlr_custo_variavel_unidade'] = pd.to_numeric(custo_producao['vlr_custo_variavel_unidade'])\n",
        "\n",
        "# filtrando o que será utilizado\n",
        "custo_producao = custo_producao[custo_producao['vlr_renda_fator_unidade'] >= 0.5]\n",
        "contagem_produto = custo_producao['produto'].value_counts()\n",
        "produtos10 = set(contagem_produto[contagem_produto >= 10].index)\n",
        "\n",
        "custo_producao = custo_producao[custo_producao['produto'].isin(produtos10)]"
      ],
      "metadata": {
        "id": "w8uAKkUCJfZ-"
      },
      "execution_count": null,
      "outputs": []
    },
    {
      "cell_type": "code",
      "source": [
        "#calculando o custo total de produção\n",
        "custo_producao['vlr_total_unidade'] = custo_producao['vlr_custo_fixo_unidade'] + custo_producao['vlr_custo_variavel_unidade'] + custo_producao['vlr_renda_fator_unidade']"
      ],
      "metadata": {
        "id": "EWkx1CVOJhQt"
      },
      "execution_count": null,
      "outputs": []
    },
    {
      "cell_type": "markdown",
      "source": [
        "- Estipulando a variabilidade e definindo o ranqueamento"
      ],
      "metadata": {
        "id": "6pBCAi7nJkrv"
      }
    },
    {
      "cell_type": "code",
      "source": [
        "#calculando variância, desvio padrão e aplitude total\n",
        "var_custo_produto = custo_producao.groupby('produto')['vlr_total_unidade'].var()\n",
        "dp_custo_produto = custo_producao.groupby('produto')['vlr_total_unidade'].std()\n",
        "ampl_custo_produto = custo_producao.groupby('produto')['vlr_total_unidade'].agg(lambda x: np.max(x) - np.min(x))"
      ],
      "metadata": {
        "id": "NYv4gVKCJosM"
      },
      "execution_count": null,
      "outputs": []
    },
    {
      "cell_type": "code",
      "source": [
        "#concatenando os resultados e cruzando as informações por meio do cálculo da média.\n",
        "variabilidade_custo = pd.concat([var_custo_produto, dp_custo_produto, ampl_custo_produto])\n",
        "\n",
        "media_variabilidade_custo = variabilidade_custo.groupby('produto').mean()\n",
        "\n",
        "#ordenação crescente\n",
        "custos_estaveis = media_variabilidade_custo.sort_values(ascending=True)\n",
        "\n",
        "custos_estaveis.head(5)"
      ],
      "metadata": {
        "colab": {
          "base_uri": "https://localhost:8080/"
        },
        "id": "1vOqARScJpDc",
        "outputId": "b77eacec-c76f-4445-b5ed-38f4289bec3b"
      },
      "execution_count": null,
      "outputs": [
        {
          "output_type": "execute_result",
          "data": {
            "text/plain": [
              "produto\n",
              "SORGO GRANIFERO                              90.054676\n",
              "AMENDOIM                                     92.286050\n",
              "MILHO                                       138.166111\n",
              "TRITICALE                                   233.699894\n",
              "AVEIA                                       260.703473\n",
              "Name: vlr_total_unidade, dtype: float64"
            ]
          },
          "metadata": {},
          "execution_count": 9
        }
      ]
    },
    {
      "cell_type": "markdown",
      "source": [
        "## Estabilidade de venda por produto"
      ],
      "metadata": {
        "id": "CHIoov8JJrcZ"
      }
    },
    {
      "cell_type": "code",
      "source": [
        "# convertendo para numérico\n",
        "venda_producao['valor_produto_kg'] = pd.to_numeric(venda_producao['valor_produto_kg'])\n",
        "\n",
        "# filtrando o que será utilizado\n",
        "contagem_produto = venda_producao['produto'].value_counts()\n",
        "produtos10 = set(contagem_produto[contagem_produto >= 10].index)\n",
        "\n",
        "venda_producao = venda_producao[venda_producao['produto'].isin(produtos10)]"
      ],
      "metadata": {
        "id": "UoSOeEOcJtMS"
      },
      "execution_count": null,
      "outputs": []
    },
    {
      "cell_type": "markdown",
      "source": [
        "- Estipulando a variabilidade e definindo o ranqueamento"
      ],
      "metadata": {
        "id": "3u7N3_aoJxfP"
      }
    },
    {
      "cell_type": "code",
      "source": [
        "#calculando variância, desvio padrão e aplitude total\n",
        "var_venda_produto = venda_producao.groupby('produto')['valor_produto_kg'].var()\n",
        "dp_venda_produto = venda_producao.groupby('produto')['valor_produto_kg'].std()\n",
        "ampl_venda_produto = venda_producao.groupby('produto')['valor_produto_kg'].agg(lambda x: np.max(x) - np.min(x))\n",
        "\n",
        "#concatenando os resultados e cruzando as informações por meio do cálculo da média.\n",
        "variabilidade_venda = pd.concat([var_venda_produto, dp_venda_produto, ampl_venda_produto])\n",
        "\n",
        "media_variabilidade_venda = variabilidade_venda.groupby('produto').mean()\n",
        "\n",
        "#ordenação crescente\n",
        "vendas_estaveis = media_variabilidade_venda.sort_values(ascending=True)\n",
        "\n",
        "vendas_estaveis.head(5)"
      ],
      "metadata": {
        "colab": {
          "base_uri": "https://localhost:8080/"
        },
        "id": "XmNB11T5J0mt",
        "outputId": "c1abde2e-9d8e-4b5e-8a26-c772472f8676"
      },
      "execution_count": null,
      "outputs": [
        {
          "output_type": "execute_result",
          "data": {
            "text/plain": [
              "produto\n",
              "CANA DE ACUCAR               0.047322\n",
              "MACAUBA                      0.097491\n",
              "BARU                         0.116670\n",
              "COCO DE BABACU               0.138034\n",
              "MILHETO                      0.204069\n",
              "Name: valor_produto_kg, dtype: float64"
            ]
          },
          "metadata": {},
          "execution_count": 11
        }
      ]
    }
  ]
}